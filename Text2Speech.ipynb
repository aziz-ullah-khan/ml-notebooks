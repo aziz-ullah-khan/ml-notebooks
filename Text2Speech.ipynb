{
  "nbformat": 4,
  "nbformat_minor": 0,
  "metadata": {
    "colab": {
      "provenance": []
    },
    "kernelspec": {
      "display_name": "Python 3",
      "name": "python3"
    },
    "language_info": {
      "name": "python"
    }
  },
  "cells": [
    {
      "cell_type": "markdown",
      "metadata": {
        "id": "NXKydQOqcnJQ"
      },
      "source": [
        "## Required Packages"
      ]
    },
    {
      "cell_type": "code",
      "metadata": {
        "id": "9KunfGPPkWoH"
      },
      "source": [
        "!pip install gTTS"
      ],
      "execution_count": null,
      "outputs": []
    },
    {
      "cell_type": "markdown",
      "metadata": {
        "id": "Ai7IUjCLcqHt"
      },
      "source": [
        "## Importing Libraries"
      ]
    },
    {
      "cell_type": "code",
      "metadata": {
        "id": "yS--9_T7kalg"
      },
      "source": [
        "from gtts import gTTS\n",
        "import IPython"
      ],
      "execution_count": null,
      "outputs": []
    },
    {
      "cell_type": "markdown",
      "metadata": {
        "id": "zuAsxUk4cuTI"
      },
      "source": [
        "## Implementations"
      ]
    },
    {
      "cell_type": "code",
      "metadata": {
        "id": "pjXChzKRL5FX"
      },
      "source": [
        "tts = gTTS(\"Hi, how are you?\", lang = 'en')"
      ],
      "execution_count": null,
      "outputs": []
    },
    {
      "cell_type": "code",
      "metadata": {
        "id": "6GX1zimbL5ig"
      },
      "source": [
        "# Save as .wav file\n",
        "tts.save(\"a.wav\")"
      ],
      "execution_count": null,
      "outputs": []
    },
    {
      "cell_type": "code",
      "metadata": {
        "colab": {
          "base_uri": "https://localhost:8080/",
          "height": 75
        },
        "id": "6Knv6VX8MMLt",
        "outputId": "3a8bf665-296c-4027-d4eb-baf0136ad738"
      },
      "source": [
        "IPython.display.Audio(\"a.wav\")"
      ],
      "execution_count": null,
      "outputs": [
        {
          "output_type": "execute_result",
          "data": {
            "text/html": [
              "\n",
              "                <audio controls=\"controls\" >\n",
              "                    <source src=\"data:audio/x-wav;base64,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\" type=\"audio/x-wav\" />\n",
              "                    Your browser does not support the audio element.\n",
              "                </audio>\n",
              "              "
            ],
            "text/plain": [
              "<IPython.lib.display.Audio object>"
            ]
          },
          "metadata": {},
          "execution_count": 5
        }
      ]
    },
    {
      "cell_type": "code",
      "source": [],
      "metadata": {
        "id": "Qsv8Hj5lUxyH"
      },
      "execution_count": null,
      "outputs": []
    }
  ]
}