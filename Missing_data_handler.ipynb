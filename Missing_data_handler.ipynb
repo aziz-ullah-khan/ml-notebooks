{
 "cells": [
  {
   "cell_type": "markdown",
   "id": "4fd77b30",
   "metadata": {},
   "source": [
    "## Missing Data Handler\n",
    "\n",
    "**Introduction**\n",
    "\n",
    "In this notebook we have multiple targets values where each target value is having different missing values than the others, a seperate model is build/trained to predict the missing values and posting the values to their respective position bases on the available data."
   ]
  },
  {
   "cell_type": "markdown",
   "id": "8bb52a55",
   "metadata": {},
   "source": [
    "### Loading Packages\n"
   ]
  },
  {
   "cell_type": "code",
   "execution_count": 159,
   "id": "3dcb9233",
   "metadata": {},
   "outputs": [],
   "source": [
    "import pandas as pd\n",
    "import seaborn as sns\n",
    "import matplotlib.pyplot as plt\n",
    "from sklearn.ensemble import RandomForestClassifier, RandomForestRegressor\n",
    "from sklearn.preprocessing import LabelEncoder\n",
    "from sklearn.model_selection import GridSearchCV\n",
    "from tqdm import tqdm\n",
    "import numpy as np"
   ]
  },
  {
   "cell_type": "markdown",
   "id": "e82cfd73",
   "metadata": {},
   "source": [
    "### Loading data"
   ]
  },
  {
   "cell_type": "code",
   "execution_count": 139,
   "id": "956689c3",
   "metadata": {
    "scrolled": true
   },
   "outputs": [
    {
     "data": {
      "text/html": [
       "<div>\n",
       "<style scoped>\n",
       "    .dataframe tbody tr th:only-of-type {\n",
       "        vertical-align: middle;\n",
       "    }\n",
       "\n",
       "    .dataframe tbody tr th {\n",
       "        vertical-align: top;\n",
       "    }\n",
       "\n",
       "    .dataframe thead th {\n",
       "        text-align: right;\n",
       "    }\n",
       "</style>\n",
       "<table border=\"1\" class=\"dataframe\">\n",
       "  <thead>\n",
       "    <tr style=\"text-align: right;\">\n",
       "      <th></th>\n",
       "      <th>Username</th>\n",
       "      <th>Group(Control=0; ADHD=1)</th>\n",
       "      <th>Age</th>\n",
       "      <th>Gender</th>\n",
       "      <th>Highest_Education</th>\n",
       "      <th>A_Symptoms</th>\n",
       "      <th>H_Symptoms</th>\n",
       "      <th>Total_score</th>\n",
       "      <th>PWM_Symptoms</th>\n",
       "    </tr>\n",
       "  </thead>\n",
       "  <tbody>\n",
       "    <tr>\n",
       "      <th>0</th>\n",
       "      <td>1</td>\n",
       "      <td>0.0</td>\n",
       "      <td>22</td>\n",
       "      <td>Female</td>\n",
       "      <td>Masters</td>\n",
       "      <td>2.0</td>\n",
       "      <td>0.0</td>\n",
       "      <td>2</td>\n",
       "      <td>20</td>\n",
       "    </tr>\n",
       "    <tr>\n",
       "      <th>1</th>\n",
       "      <td>2</td>\n",
       "      <td>0.0</td>\n",
       "      <td>30</td>\n",
       "      <td>Female</td>\n",
       "      <td>Undergraduate</td>\n",
       "      <td>6.0</td>\n",
       "      <td>0.0</td>\n",
       "      <td>6</td>\n",
       "      <td>27</td>\n",
       "    </tr>\n",
       "    <tr>\n",
       "      <th>2</th>\n",
       "      <td>3</td>\n",
       "      <td>1.0</td>\n",
       "      <td>23</td>\n",
       "      <td>Male</td>\n",
       "      <td>Masters</td>\n",
       "      <td>5.0</td>\n",
       "      <td>8.0</td>\n",
       "      <td>13</td>\n",
       "      <td>25</td>\n",
       "    </tr>\n",
       "    <tr>\n",
       "      <th>3</th>\n",
       "      <td>4</td>\n",
       "      <td>1.0</td>\n",
       "      <td>26</td>\n",
       "      <td>Female</td>\n",
       "      <td>Masters</td>\n",
       "      <td>10.0</td>\n",
       "      <td>2.0</td>\n",
       "      <td>12</td>\n",
       "      <td>30</td>\n",
       "    </tr>\n",
       "    <tr>\n",
       "      <th>4</th>\n",
       "      <td>5</td>\n",
       "      <td>1.0</td>\n",
       "      <td>20</td>\n",
       "      <td>Female</td>\n",
       "      <td>Undergraduate</td>\n",
       "      <td>9.0</td>\n",
       "      <td>7.0</td>\n",
       "      <td>16</td>\n",
       "      <td>26</td>\n",
       "    </tr>\n",
       "  </tbody>\n",
       "</table>\n",
       "</div>"
      ],
      "text/plain": [
       "   Username  Group(Control=0; ADHD=1)  Age  Gender Highest_Education  \\\n",
       "0         1                       0.0   22  Female          Masters    \n",
       "1         2                       0.0   30  Female     Undergraduate   \n",
       "2         3                       1.0   23    Male          Masters    \n",
       "3         4                       1.0   26  Female          Masters    \n",
       "4         5                       1.0   20  Female     Undergraduate   \n",
       "\n",
       "   A_Symptoms  H_Symptoms  Total_score  PWM_Symptoms  \n",
       "0         2.0         0.0            2            20  \n",
       "1         6.0         0.0            6            27  \n",
       "2         5.0         8.0           13            25  \n",
       "3        10.0         2.0           12            30  \n",
       "4         9.0         7.0           16            26  "
      ]
     },
     "execution_count": 139,
     "metadata": {},
     "output_type": "execute_result"
    }
   ],
   "source": [
    "# Read the CSV file\n",
    "data = pd.read_csv('AllData.csv')\n",
    "data.head()"
   ]
  },
  {
   "cell_type": "markdown",
   "id": "151438ae",
   "metadata": {},
   "source": [
    "### Data Analysis"
   ]
  },
  {
   "cell_type": "code",
   "execution_count": 140,
   "id": "bc3abcf4",
   "metadata": {
    "scrolled": true
   },
   "outputs": [
    {
     "data": {
      "text/html": [
       "<div>\n",
       "<style scoped>\n",
       "    .dataframe tbody tr th:only-of-type {\n",
       "        vertical-align: middle;\n",
       "    }\n",
       "\n",
       "    .dataframe tbody tr th {\n",
       "        vertical-align: top;\n",
       "    }\n",
       "\n",
       "    .dataframe thead th {\n",
       "        text-align: right;\n",
       "    }\n",
       "</style>\n",
       "<table border=\"1\" class=\"dataframe\">\n",
       "  <thead>\n",
       "    <tr style=\"text-align: right;\">\n",
       "      <th></th>\n",
       "      <th>Username</th>\n",
       "      <th>Group(Control=0; ADHD=1)</th>\n",
       "      <th>Age</th>\n",
       "      <th>Gender</th>\n",
       "      <th>Highest_Education</th>\n",
       "      <th>A_Symptoms</th>\n",
       "      <th>H_Symptoms</th>\n",
       "      <th>Total_score</th>\n",
       "      <th>PWM_Symptoms</th>\n",
       "    </tr>\n",
       "  </thead>\n",
       "  <tbody>\n",
       "    <tr>\n",
       "      <th>count</th>\n",
       "      <td>228.00000</td>\n",
       "      <td>178.00000</td>\n",
       "      <td>228.000000</td>\n",
       "      <td>228</td>\n",
       "      <td>151</td>\n",
       "      <td>178.000000</td>\n",
       "      <td>178.000000</td>\n",
       "      <td>228.000000</td>\n",
       "      <td>228.000000</td>\n",
       "    </tr>\n",
       "    <tr>\n",
       "      <th>unique</th>\n",
       "      <td>NaN</td>\n",
       "      <td>NaN</td>\n",
       "      <td>NaN</td>\n",
       "      <td>2</td>\n",
       "      <td>5</td>\n",
       "      <td>NaN</td>\n",
       "      <td>NaN</td>\n",
       "      <td>NaN</td>\n",
       "      <td>NaN</td>\n",
       "    </tr>\n",
       "    <tr>\n",
       "      <th>top</th>\n",
       "      <td>NaN</td>\n",
       "      <td>NaN</td>\n",
       "      <td>NaN</td>\n",
       "      <td>Female</td>\n",
       "      <td>Undergraduate</td>\n",
       "      <td>NaN</td>\n",
       "      <td>NaN</td>\n",
       "      <td>NaN</td>\n",
       "      <td>NaN</td>\n",
       "    </tr>\n",
       "    <tr>\n",
       "      <th>freq</th>\n",
       "      <td>NaN</td>\n",
       "      <td>NaN</td>\n",
       "      <td>NaN</td>\n",
       "      <td>127</td>\n",
       "      <td>81</td>\n",
       "      <td>NaN</td>\n",
       "      <td>NaN</td>\n",
       "      <td>NaN</td>\n",
       "      <td>NaN</td>\n",
       "    </tr>\n",
       "    <tr>\n",
       "      <th>mean</th>\n",
       "      <td>114.50000</td>\n",
       "      <td>0.50000</td>\n",
       "      <td>25.399123</td>\n",
       "      <td>NaN</td>\n",
       "      <td>NaN</td>\n",
       "      <td>6.202247</td>\n",
       "      <td>5.073034</td>\n",
       "      <td>13.469298</td>\n",
       "      <td>17.951754</td>\n",
       "    </tr>\n",
       "    <tr>\n",
       "      <th>std</th>\n",
       "      <td>65.96211</td>\n",
       "      <td>0.50141</td>\n",
       "      <td>7.666128</td>\n",
       "      <td>NaN</td>\n",
       "      <td>NaN</td>\n",
       "      <td>4.205672</td>\n",
       "      <td>2.419379</td>\n",
       "      <td>4.418017</td>\n",
       "      <td>6.027276</td>\n",
       "    </tr>\n",
       "    <tr>\n",
       "      <th>min</th>\n",
       "      <td>1.00000</td>\n",
       "      <td>0.00000</td>\n",
       "      <td>18.000000</td>\n",
       "      <td>NaN</td>\n",
       "      <td>NaN</td>\n",
       "      <td>0.000000</td>\n",
       "      <td>0.000000</td>\n",
       "      <td>0.000000</td>\n",
       "      <td>4.000000</td>\n",
       "    </tr>\n",
       "    <tr>\n",
       "      <th>25%</th>\n",
       "      <td>57.75000</td>\n",
       "      <td>0.00000</td>\n",
       "      <td>21.000000</td>\n",
       "      <td>NaN</td>\n",
       "      <td>NaN</td>\n",
       "      <td>2.000000</td>\n",
       "      <td>4.000000</td>\n",
       "      <td>12.000000</td>\n",
       "      <td>14.000000</td>\n",
       "    </tr>\n",
       "    <tr>\n",
       "      <th>50%</th>\n",
       "      <td>114.50000</td>\n",
       "      <td>0.50000</td>\n",
       "      <td>23.000000</td>\n",
       "      <td>NaN</td>\n",
       "      <td>NaN</td>\n",
       "      <td>7.500000</td>\n",
       "      <td>6.000000</td>\n",
       "      <td>14.000000</td>\n",
       "      <td>17.000000</td>\n",
       "    </tr>\n",
       "    <tr>\n",
       "      <th>75%</th>\n",
       "      <td>171.25000</td>\n",
       "      <td>1.00000</td>\n",
       "      <td>28.000000</td>\n",
       "      <td>NaN</td>\n",
       "      <td>NaN</td>\n",
       "      <td>10.000000</td>\n",
       "      <td>6.000000</td>\n",
       "      <td>16.000000</td>\n",
       "      <td>21.000000</td>\n",
       "    </tr>\n",
       "    <tr>\n",
       "      <th>max</th>\n",
       "      <td>228.00000</td>\n",
       "      <td>1.00000</td>\n",
       "      <td>64.000000</td>\n",
       "      <td>NaN</td>\n",
       "      <td>NaN</td>\n",
       "      <td>12.000000</td>\n",
       "      <td>13.000000</td>\n",
       "      <td>25.000000</td>\n",
       "      <td>32.000000</td>\n",
       "    </tr>\n",
       "  </tbody>\n",
       "</table>\n",
       "</div>"
      ],
      "text/plain": [
       "         Username  Group(Control=0; ADHD=1)         Age  Gender  \\\n",
       "count   228.00000                 178.00000  228.000000     228   \n",
       "unique        NaN                       NaN         NaN       2   \n",
       "top           NaN                       NaN         NaN  Female   \n",
       "freq          NaN                       NaN         NaN     127   \n",
       "mean    114.50000                   0.50000   25.399123     NaN   \n",
       "std      65.96211                   0.50141    7.666128     NaN   \n",
       "min       1.00000                   0.00000   18.000000     NaN   \n",
       "25%      57.75000                   0.00000   21.000000     NaN   \n",
       "50%     114.50000                   0.50000   23.000000     NaN   \n",
       "75%     171.25000                   1.00000   28.000000     NaN   \n",
       "max     228.00000                   1.00000   64.000000     NaN   \n",
       "\n",
       "       Highest_Education  A_Symptoms  H_Symptoms  Total_score  PWM_Symptoms  \n",
       "count                151  178.000000  178.000000   228.000000    228.000000  \n",
       "unique                 5         NaN         NaN          NaN           NaN  \n",
       "top        Undergraduate         NaN         NaN          NaN           NaN  \n",
       "freq                  81         NaN         NaN          NaN           NaN  \n",
       "mean                 NaN    6.202247    5.073034    13.469298     17.951754  \n",
       "std                  NaN    4.205672    2.419379     4.418017      6.027276  \n",
       "min                  NaN    0.000000    0.000000     0.000000      4.000000  \n",
       "25%                  NaN    2.000000    4.000000    12.000000     14.000000  \n",
       "50%                  NaN    7.500000    6.000000    14.000000     17.000000  \n",
       "75%                  NaN   10.000000    6.000000    16.000000     21.000000  \n",
       "max                  NaN   12.000000   13.000000    25.000000     32.000000  "
      ]
     },
     "execution_count": 140,
     "metadata": {},
     "output_type": "execute_result"
    }
   ],
   "source": [
    "data.describe(include = 'all')"
   ]
  },
  {
   "cell_type": "code",
   "execution_count": 141,
   "id": "ae1250e3",
   "metadata": {
    "scrolled": true
   },
   "outputs": [
    {
     "name": "stdout",
     "output_type": "stream",
     "text": [
      "<class 'pandas.core.frame.DataFrame'>\n",
      "RangeIndex: 228 entries, 0 to 227\n",
      "Data columns (total 9 columns):\n",
      " #   Column                    Non-Null Count  Dtype  \n",
      "---  ------                    --------------  -----  \n",
      " 0   Username                  228 non-null    int64  \n",
      " 1   Group(Control=0; ADHD=1)  178 non-null    float64\n",
      " 2   Age                       228 non-null    int64  \n",
      " 3   Gender                    228 non-null    object \n",
      " 4   Highest_Education         151 non-null    object \n",
      " 5   A_Symptoms                178 non-null    float64\n",
      " 6   H_Symptoms                178 non-null    float64\n",
      " 7   Total_score               228 non-null    int64  \n",
      " 8   PWM_Symptoms              228 non-null    int64  \n",
      "dtypes: float64(3), int64(4), object(2)\n",
      "memory usage: 16.2+ KB\n"
     ]
    }
   ],
   "source": [
    "data.info()"
   ]
  },
  {
   "cell_type": "code",
   "execution_count": 142,
   "id": "e738f628",
   "metadata": {},
   "outputs": [
    {
     "data": {
      "text/plain": [
       "Username                     0\n",
       "Group(Control=0; ADHD=1)    50\n",
       "Age                          0\n",
       "Gender                       0\n",
       "Highest_Education           77\n",
       "A_Symptoms                  50\n",
       "H_Symptoms                  50\n",
       "Total_score                  0\n",
       "PWM_Symptoms                 0\n",
       "dtype: int64"
      ]
     },
     "execution_count": 142,
     "metadata": {},
     "output_type": "execute_result"
    }
   ],
   "source": [
    "data.isnull().sum()"
   ]
  },
  {
   "cell_type": "code",
   "execution_count": 143,
   "id": "d966c94d",
   "metadata": {},
   "outputs": [
    {
     "data": {
      "image/png": "[encoded data removed]",
      "text/plain": [
       "<Figure size 640x480 with 1 Axes>"
      ]
     },
     "metadata": {},
     "output_type": "display_data"
    }
   ],
   "source": [
    "sns.countplot(x = data['Highest_Education'])\n",
    "plt.show()"
   ]
  },
  {
   "cell_type": "markdown",
   "id": "b0e416eb",
   "metadata": {},
   "source": [
    "### Feature Engineering"
   ]
  },
  {
   "cell_type": "code",
   "execution_count": 144,
   "id": "45d1a295",
   "metadata": {},
   "outputs": [],
   "source": [
    "# Separate the features and target variable\n",
    "features = ['Age', 'Gender', 'Total_score', 'PWM_Symptoms']\n",
    "target_columns = ['Group(Control=0; ADHD=1)', 'Highest_Education', 'A_Symptoms', 'H_Symptoms']\n",
    "target = data[target_columns]"
   ]
  },
  {
   "cell_type": "code",
   "execution_count": 145,
   "id": "f7aa3fc5",
   "metadata": {},
   "outputs": [],
   "source": [
    "# Encode categorical features\n",
    "label_encoder = LabelEncoder()\n",
    "for column in ['Gender']:\n",
    "    data[column] = label_encoder.fit_transform(data[column])"
   ]
  },
  {
   "cell_type": "markdown",
   "id": "e2a4a637",
   "metadata": {},
   "source": [
    "### Model Training"
   ]
  },
  {
   "cell_type": "code",
   "execution_count": 146,
   "id": "cf5b9b1c",
   "metadata": {},
   "outputs": [
    {
     "name": "stderr",
     "output_type": "stream",
     "text": [
      "Training models:  25%|██████▊                    | 1/4 [03:13<09:39, 193.29s/it]/Users/auk/opt/anaconda3/lib/python3.9/site-packages/sklearn/model_selection/_split.py:676: UserWarning: The least populated class in y has only 1 members, which is less than n_splits=5.\n",
      "  warnings.warn(\n",
      "Training models: 100%|███████████████████████████| 4/4 [17:13<00:00, 258.48s/it]\n"
     ]
    }
   ],
   "source": [
    "# categorical target columns\n",
    "cat_columns = ['Group(Control=0; ADHD=1)', 'Highest_Education']\n",
    "\n",
    "reg_param_grid = [\n",
    "    {\n",
    "        'n_estimators': [100, 200, 300],\n",
    "        'max_depth': [None, 5, 10],\n",
    "        'min_samples_split': [2, 5, 10],\n",
    "        'min_samples_leaf': [1, 2, 4],\n",
    "        'random_state': [42]\n",
    "    },\n",
    "    {\n",
    "        'n_estimators': [50, 100],\n",
    "        'max_depth': [None, 5],\n",
    "        'min_samples_split': [2, 10],\n",
    "        'min_samples_leaf': [1, 4],\n",
    "        'random_state': [42]\n",
    "    }\n",
    "]\n",
    "\n",
    "# Define the parameter grid to search\n",
    "clf_param_grid = {\n",
    "    'n_estimators': [100, 200, 300],  # Number of decision trees\n",
    "    'criterion': ['gini', 'entropy'],  # Split quality criterion\n",
    "    'max_depth': [None, 5, 10],  # Maximum depth of each tree\n",
    "    'min_samples_split': [2, 5, 10],  # Minimum number of samples required to split a node\n",
    "    'min_samples_leaf': [1, 2, 4],  # Minimum number of samples required at each leaf node\n",
    "    'random_state': [42]  # Random seed for reproducibility\n",
    "}\n",
    "# Train a random forest classifier for each target column\n",
    "classifiers = {}\n",
    "for column in tqdm(target_columns, desc='Training models'):\n",
    "    if column in cat_columns:\n",
    "        rf = RandomForestClassifier()\n",
    "        param_grid = clf_param_grid\n",
    "    else:\n",
    "        rf = RandomForestRegressor()\n",
    "        param_grid = reg_param_grid\n",
    "    grid_search = GridSearchCV(estimator=rf, param_grid=param_grid, cv=5)\n",
    "    grid_search.fit(data[features][:-data[column].isnull().sum()], data[column][:-data[column].isnull().sum()])\n",
    "    # Get the best trained model\n",
    "    classifiers[column] = grid_search.best_estimator_"
   ]
  },
  {
   "cell_type": "markdown",
   "id": "b62aad7b",
   "metadata": {},
   "source": [
    "### Model Prediction"
   ]
  },
  {
   "cell_type": "code",
   "execution_count": 147,
   "id": "b9f979d1",
   "metadata": {},
   "outputs": [],
   "source": [
    "# Predict the missing values\n",
    "for column in target_columns:\n",
    "    missing_values = data[data[column].isnull()]\n",
    "    if len(missing_values) > 0:\n",
    "        predicted_values = classifiers[column].predict(missing_values[features])\n",
    "        data.loc[data[column].isnull(), column] = predicted_values"
   ]
  },
  {
   "cell_type": "code",
   "execution_count": 148,
   "id": "a962c957",
   "metadata": {},
   "outputs": [],
   "source": [
    "# decode Gender to Male & Female\n",
    "data['Gender'] = label_encoder.inverse_transform(data['Gender'])"
   ]
  },
  {
   "cell_type": "code",
   "execution_count": 164,
   "id": "b9544fbb",
   "metadata": {},
   "outputs": [],
   "source": [
    "# round the values \n",
    "data['A_Symptoms'] = data['A_Symptoms'].apply(lambda x: np.ceil(x))\n",
    "data['H_Symptoms'] = data['H_Symptoms'].apply(lambda x: np.ceil(x))\n",
    "# Calculate the 'H_Symptoms' column\n",
    "data['H_Symptoms'] = data['Total_score'] - data['A_Symptoms']"
   ]
  },
  {
   "cell_type": "code",
   "execution_count": 165,
   "id": "78c186c6",
   "metadata": {},
   "outputs": [],
   "source": [
    "# Save the updated data to a new CSV file\n",
    "data.to_csv('filled_data.csv', index=False)"
   ]
  },
  {
   "cell_type": "code",
   "execution_count": 166,
   "id": "d6d7a68d",
   "metadata": {},
   "outputs": [
    {
     "data": {
      "text/html": [
       "<div>\n",
       "<style scoped>\n",
       "    .dataframe tbody tr th:only-of-type {\n",
       "        vertical-align: middle;\n",
       "    }\n",
       "\n",
       "    .dataframe tbody tr th {\n",
       "        vertical-align: top;\n",
       "    }\n",
       "\n",
       "    .dataframe thead th {\n",
       "        text-align: right;\n",
       "    }\n",
       "</style>\n",
       "<table border=\"1\" class=\"dataframe\">\n",
       "  <thead>\n",
       "    <tr style=\"text-align: right;\">\n",
       "      <th></th>\n",
       "      <th>Username</th>\n",
       "      <th>Group(Control=0; ADHD=1)</th>\n",
       "      <th>Age</th>\n",
       "      <th>Gender</th>\n",
       "      <th>Highest_Education</th>\n",
       "      <th>A_Symptoms</th>\n",
       "      <th>H_Symptoms</th>\n",
       "      <th>Total_score</th>\n",
       "      <th>PWM_Symptoms</th>\n",
       "    </tr>\n",
       "  </thead>\n",
       "  <tbody>\n",
       "    <tr>\n",
       "      <th>223</th>\n",
       "      <td>224</td>\n",
       "      <td>0.0</td>\n",
       "      <td>45</td>\n",
       "      <td>Male</td>\n",
       "      <td>Undergraduate</td>\n",
       "      <td>6.0</td>\n",
       "      <td>5.0</td>\n",
       "      <td>11</td>\n",
       "      <td>14</td>\n",
       "    </tr>\n",
       "    <tr>\n",
       "      <th>224</th>\n",
       "      <td>225</td>\n",
       "      <td>1.0</td>\n",
       "      <td>25</td>\n",
       "      <td>Male</td>\n",
       "      <td>Undergraduate</td>\n",
       "      <td>11.0</td>\n",
       "      <td>7.0</td>\n",
       "      <td>18</td>\n",
       "      <td>17</td>\n",
       "    </tr>\n",
       "    <tr>\n",
       "      <th>225</th>\n",
       "      <td>226</td>\n",
       "      <td>1.0</td>\n",
       "      <td>28</td>\n",
       "      <td>Male</td>\n",
       "      <td>Masters</td>\n",
       "      <td>9.0</td>\n",
       "      <td>5.0</td>\n",
       "      <td>14</td>\n",
       "      <td>16</td>\n",
       "    </tr>\n",
       "    <tr>\n",
       "      <th>226</th>\n",
       "      <td>227</td>\n",
       "      <td>1.0</td>\n",
       "      <td>35</td>\n",
       "      <td>Male</td>\n",
       "      <td>Undergraduate</td>\n",
       "      <td>7.0</td>\n",
       "      <td>7.0</td>\n",
       "      <td>14</td>\n",
       "      <td>9</td>\n",
       "    </tr>\n",
       "    <tr>\n",
       "      <th>227</th>\n",
       "      <td>228</td>\n",
       "      <td>0.0</td>\n",
       "      <td>30</td>\n",
       "      <td>Female</td>\n",
       "      <td>Masters</td>\n",
       "      <td>6.0</td>\n",
       "      <td>6.0</td>\n",
       "      <td>12</td>\n",
       "      <td>9</td>\n",
       "    </tr>\n",
       "  </tbody>\n",
       "</table>\n",
       "</div>"
      ],
      "text/plain": [
       "     Username  Group(Control=0; ADHD=1)  Age  Gender Highest_Education  \\\n",
       "223       224                       0.0   45    Male     Undergraduate   \n",
       "224       225                       1.0   25    Male     Undergraduate   \n",
       "225       226                       1.0   28    Male          Masters    \n",
       "226       227                       1.0   35    Male     Undergraduate   \n",
       "227       228                       0.0   30  Female           Masters   \n",
       "\n",
       "     A_Symptoms  H_Symptoms  Total_score  PWM_Symptoms  \n",
       "223         6.0         5.0           11            14  \n",
       "224        11.0         7.0           18            17  \n",
       "225         9.0         5.0           14            16  \n",
       "226         7.0         7.0           14             9  \n",
       "227         6.0         6.0           12             9  "
      ]
     },
     "execution_count": 166,
     "metadata": {},
     "output_type": "execute_result"
    }
   ],
   "source": [
    "data.tail()"
   ]
  },
  {
   "cell_type": "code",
   "execution_count": null,
   "id": "7333f0a8",
   "metadata": {},
   "outputs": [],
   "source": []
  }
 ],
 "metadata": {
  "kernelspec": {
   "display_name": "Python 3 (ipykernel)",
   "language": "python",
   "name": "python3"
  },
  "language_info": {
   "codemirror_mode": {
    "name": "ipython",
    "version": 3
   },
   "file_extension": ".py",
   "mimetype": "text/x-python",
   "name": "python",
   "nbconvert_exporter": "python",
   "pygments_lexer": "ipython3",
   "version": "3.9.13"
  }
 },
 "nbformat": 4,
 "nbformat_minor": 5
}
