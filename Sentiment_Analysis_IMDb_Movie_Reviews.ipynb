{
  "cells": [
    {
      "cell_type": "markdown",
      "metadata": {
        "id": "dtu1JilGsbzt"
      },
      "source": [
        "# Sentiment Analysis on IMDb movie reviews\n",
        "Tasks:\n",
        "\n",
        "a. Load the IMDb movie reviews dataset and perform any necessary preprocessing (e.g., tokenization, padding).\n",
        "\n",
        "b. Design and build a deep learning model for sentiment analysis using a deep learning framework of your choice (e.g., TensorFlow, PyTorch, Keras).\n",
        "\n",
        "c. Train the model using the training dataset.\n",
        "\n",
        "d. Plot the training and validation accuracy/loss curves.\n",
        "\n",
        "e. Save the trained model to a file.\n"
      ]
    },
    {
      "cell_type": "markdown",
      "metadata": {
        "id": "PblkM-ZUslEj"
      },
      "source": [
        "## Installing required packages"
      ]
    },
    {
      "cell_type": "code",
      "execution_count": 1,
      "metadata": {
        "colab": {
          "base_uri": "https://localhost:8080/"
        },
        "id": "VEMS-DdYr2HR",
        "outputId": "88e32952-3bac-4562-f723-ed0d73dd3c8c"
      },
      "outputs": [
        {
          "output_type": "stream",
          "name": "stdout",
          "text": [
            "Requirement already satisfied: six>=1.5 in /usr/local/lib/python3.10/dist-packages (from python-dateutil>=2.8.1->pandas->evaluate) (1.16.0)\n",
            "Installing collected packages: tokenizers, safetensors, xxhash, dill, responses, multiprocess, huggingface-hub, transformers, datasets, evaluate\n",
            "Successfully installed datasets-2.14.1 dill-0.3.7 evaluate-0.4.0 huggingface-hub-0.16.4 multiprocess-0.70.15 responses-0.18.0 safetensors-0.3.1 tokenizers-0.13.3 transformers-4.31.0 xxhash-3.2.0\n"
          ]
        }
      ],
      "source": [
        "!pip install transformers evaluate datasets"
      ]
    },
    {
      "cell_type": "markdown",
      "metadata": {
        "id": "a432JwsUspPt"
      },
      "source": [
        "## Collecting data"
      ]
    },
    {
      "cell_type": "code",
      "execution_count": 2,
      "metadata": {
        "colab": {
          "base_uri": "https://localhost:8080/",
          "height": 154
        },
        "id": "MK7W7TWewqsY",
        "outputId": "5afb8727-8db5-4cd7-fa76-596a7e0cb30d"
      },
      "outputs": [
        {
          "output_type": "display_data",
          "data": {
            "text/plain": [
              "<IPython.core.display.HTML object>"
            ],
            "text/html": [
              "\n",
              "     <input type=\"file\" id=\"files-c79d6b72-724f-4d38-996f-545f7a4e9e25\" name=\"files[]\" multiple disabled\n",
              "        style=\"border:none\" />\n",
              "     <output id=\"result-c79d6b72-724f-4d38-996f-545f7a4e9e25\">\n",
              "      Upload widget is only available when the cell has been executed in the\n",
              "      current browser session. Please rerun this cell to enable.\n",
              "      </output>\n",
              "      <script>// Copyright 2017 Google LLC\n",
              "//\n",
              "// Licensed under the Apache License, Version 2.0 (the \"License\");\n",
              "// you may not use this file except in compliance with the License.\n",
              "// You may obtain a copy of the License at\n",
              "//\n",
              "//      http://www.apache.org/licenses/LICENSE-2.0\n",
              "//\n",
              "// Unless required by applicable law or agreed to in writing, software\n",
              "// distributed under the License is distributed on an \"AS IS\" BASIS,\n",
              "// WITHOUT WARRANTIES OR CONDITIONS OF ANY KIND, either express or implied.\n",
              "// See the License for the specific language governing permissions and\n",
              "// limitations under the License.\n",
              "\n",
              "/**\n",
              " * @fileoverview Helpers for google.colab Python module.\n",
              " */\n",
              "(function(scope) {\n",
              "function span(text, styleAttributes = {}) {\n",
              "  const element = document.createElement('span');\n",
              "  element.textContent = text;\n",
              "  for (const key of Object.keys(styleAttributes)) {\n",
              "    element.style[key] = styleAttributes[key];\n",
              "  }\n",
              "  return element;\n",
              "}\n",
              "\n",
              "// Max number of bytes which will be uploaded at a time.\n",
              "const MAX_PAYLOAD_SIZE = 100 * 1024;\n",
              "\n",
              "function _uploadFiles(inputId, outputId) {\n",
              "  const steps = uploadFilesStep(inputId, outputId);\n",
              "  const outputElement = document.getElementById(outputId);\n",
              "  // Cache steps on the outputElement to make it available for the next call\n",
              "  // to uploadFilesContinue from Python.\n",
              "  outputElement.steps = steps;\n",
              "\n",
              "  return _uploadFilesContinue(outputId);\n",
              "}\n",
              "\n",
              "// This is roughly an async generator (not supported in the browser yet),\n",
              "// where there are multiple asynchronous steps and the Python side is going\n",
              "// to poll for completion of each step.\n",
              "// This uses a Promise to block the python side on completion of each step,\n",
              "// then passes the result of the previous step as the input to the next step.\n",
              "function _uploadFilesContinue(outputId) {\n",
              "  const outputElement = document.getElementById(outputId);\n",
              "  const steps = outputElement.steps;\n",
              "\n",
              "  const next = steps.next(outputElement.lastPromiseValue);\n",
              "  return Promise.resolve(next.value.promise).then((value) => {\n",
              "    // Cache the last promise value to make it available to the next\n",
              "    // step of the generator.\n",
              "    outputElement.lastPromiseValue = value;\n",
              "    return next.value.response;\n",
              "  });\n",
              "}\n",
              "\n",
              "/**\n",
              " * Generator function which is called between each async step of the upload\n",
              " * process.\n",
              " * @param {string} inputId Element ID of the input file picker element.\n",
              " * @param {string} outputId Element ID of the output display.\n",
              " * @return {!Iterable<!Object>} Iterable of next steps.\n",
              " */\n",
              "function* uploadFilesStep(inputId, outputId) {\n",
              "  const inputElement = document.getElementById(inputId);\n",
              "  inputElement.disabled = false;\n",
              "\n",
              "  const outputElement = document.getElementById(outputId);\n",
              "  outputElement.innerHTML = '';\n",
              "\n",
              "  const pickedPromise = new Promise((resolve) => {\n",
              "    inputElement.addEventListener('change', (e) => {\n",
              "      resolve(e.target.files);\n",
              "    });\n",
              "  });\n",
              "\n",
              "  const cancel = document.createElement('button');\n",
              "  inputElement.parentElement.appendChild(cancel);\n",
              "  cancel.textContent = 'Cancel upload';\n",
              "  const cancelPromise = new Promise((resolve) => {\n",
              "    cancel.onclick = () => {\n",
              "      resolve(null);\n",
              "    };\n",
              "  });\n",
              "\n",
              "  // Wait for the user to pick the files.\n",
              "  const files = yield {\n",
              "    promise: Promise.race([pickedPromise, cancelPromise]),\n",
              "    response: {\n",
              "      action: 'starting',\n",
              "    }\n",
              "  };\n",
              "\n",
              "  cancel.remove();\n",
              "\n",
              "  // Disable the input element since further picks are not allowed.\n",
              "  inputElement.disabled = true;\n",
              "\n",
              "  if (!files) {\n",
              "    return {\n",
              "      response: {\n",
              "        action: 'complete',\n",
              "      }\n",
              "    };\n",
              "  }\n",
              "\n",
              "  for (const file of files) {\n",
              "    const li = document.createElement('li');\n",
              "    li.append(span(file.name, {fontWeight: 'bold'}));\n",
              "    li.append(span(\n",
              "        `(${file.type || 'n/a'}) - ${file.size} bytes, ` +\n",
              "        `last modified: ${\n",
              "            file.lastModifiedDate ? file.lastModifiedDate.toLocaleDateString() :\n",
              "                                    'n/a'} - `));\n",
              "    const percent = span('0% done');\n",
              "    li.appendChild(percent);\n",
              "\n",
              "    outputElement.appendChild(li);\n",
              "\n",
              "    const fileDataPromise = new Promise((resolve) => {\n",
              "      const reader = new FileReader();\n",
              "      reader.onload = (e) => {\n",
              "        resolve(e.target.result);\n",
              "      };\n",
              "      reader.readAsArrayBuffer(file);\n",
              "    });\n",
              "    // Wait for the data to be ready.\n",
              "    let fileData = yield {\n",
              "      promise: fileDataPromise,\n",
              "      response: {\n",
              "        action: 'continue',\n",
              "      }\n",
              "    };\n",
              "\n",
              "    // Use a chunked sending to avoid message size limits. See b/62115660.\n",
              "    let position = 0;\n",
              "    do {\n",
              "      const length = Math.min(fileData.byteLength - position, MAX_PAYLOAD_SIZE);\n",
              "      const chunk = new Uint8Array(fileData, position, length);\n",
              "      position += length;\n",
              "\n",
              "      const base64 = btoa(String.fromCharCode.apply(null, chunk));\n",
              "      yield {\n",
              "        response: {\n",
              "          action: 'append',\n",
              "          file: file.name,\n",
              "          data: base64,\n",
              "        },\n",
              "      };\n",
              "\n",
              "      let percentDone = fileData.byteLength === 0 ?\n",
              "          100 :\n",
              "          Math.round((position / fileData.byteLength) * 100);\n",
              "      percent.textContent = `${percentDone}% done`;\n",
              "\n",
              "    } while (position < fileData.byteLength);\n",
              "  }\n",
              "\n",
              "  // All done.\n",
              "  yield {\n",
              "    response: {\n",
              "      action: 'complete',\n",
              "    }\n",
              "  };\n",
              "}\n",
              "\n",
              "scope.google = scope.google || {};\n",
              "scope.google.colab = scope.google.colab || {};\n",
              "scope.google.colab._files = {\n",
              "  _uploadFiles,\n",
              "  _uploadFilesContinue,\n",
              "};\n",
              "})(self);\n",
              "</script> "
            ]
          },
          "metadata": {}
        },
        {
          "output_type": "stream",
          "name": "stdout",
          "text": [
            "Saving kaggle.json to kaggle.json\n",
            "Downloading imdb-dataset-of-50k-movie-reviews.zip to /content\n",
            " 86% 22.0M/25.7M [00:01<00:00, 29.2MB/s]\n",
            "100% 25.7M/25.7M [00:01<00:00, 20.7MB/s]\n",
            "Archive:  imdb-dataset-of-50k-movie-reviews.zip\n",
            "  inflating: IMDB Dataset.csv        \n"
          ]
        }
      ],
      "source": [
        "# Upload your Kaggle API credentials to your Colab environment\n",
        "from google.colab import files\n",
        "files.upload()\n",
        "# Move the Kaggle API credentials to the correct directory and set permissions\n",
        "!mkdir -p ~/.kaggle\n",
        "!cp kaggle.json ~/.kaggle/\n",
        "!chmod 600 ~/.kaggle/kaggle.json\n",
        "\n",
        "# Download the Kaggle dataset\n",
        "!kaggle datasets download -d lakshmi25npathi/imdb-dataset-of-50k-movie-reviews\n",
        "\n",
        "# Extract the contents of the ZIP file\n",
        "!unzip imdb-dataset-of-50k-movie-reviews.zip"
      ]
    },
    {
      "cell_type": "markdown",
      "metadata": {
        "id": "kc2K22m8woR0"
      },
      "source": [
        "## Importing required packages"
      ]
    },
    {
      "cell_type": "code",
      "execution_count": 3,
      "metadata": {
        "id": "FXcIYLskwrIV"
      },
      "outputs": [],
      "source": [
        "import pandas as pd\n",
        "import numpy as np\n",
        "import matplotlib.pyplot as plt\n",
        "import seaborn as sns\n",
        "from collections import Counter\n",
        "from transformers import DebertaTokenizer, DebertaForSequenceClassification, get_scheduler\n",
        "from torch.utils.data import DataLoader\n",
        "from torch.optim import AdamW\n",
        "from sklearn.metrics import classification_report\n",
        "import torch\n",
        "from tqdm.auto import tqdm\n",
        "from datasets import *\n",
        "import evaluate\n",
        "sns.set()"
      ]
    },
    {
      "cell_type": "markdown",
      "metadata": {
        "id": "QdVbH-CRwt9z"
      },
      "source": [
        "## Loading data"
      ]
    },
    {
      "cell_type": "code",
      "execution_count": 4,
      "metadata": {
        "id": "eR0YXrPEwwZp"
      },
      "outputs": [],
      "source": [
        "# read the csv file\n",
        "df = pd.read_csv('IMDB Dataset.csv')\n",
        "\n",
        "df = df"
      ]
    },
    {
      "cell_type": "markdown",
      "metadata": {
        "id": "Vb1yG6lixTQH"
      },
      "source": [
        "## Exploratory Data Analysis"
      ]
    },
    {
      "cell_type": "code",
      "execution_count": null,
      "metadata": {
        "id": "-DsU1zSxwykZ"
      },
      "outputs": [],
      "source": [
        "# display top 5 rows\n",
        "df.head()"
      ]
    },
    {
      "cell_type": "code",
      "execution_count": null,
      "metadata": {
        "id": "jhdKHioBxX22"
      },
      "outputs": [],
      "source": [
        "# get the info\n",
        "df.info()"
      ]
    },
    {
      "cell_type": "code",
      "execution_count": null,
      "metadata": {
        "id": "et-9Hb8lx3zS"
      },
      "outputs": [],
      "source": [
        "plt.figure(figsize=(3, 4))\n",
        "# Calculate the value counts of each unique value in the 'sentiment' column\n",
        "sentiment_counts = df['sentiment'].value_counts()\n",
        "\n",
        "# Create a bar plot using Seaborn\n",
        "sns.barplot(x=sentiment_counts.index, y=sentiment_counts.values)\n",
        "\n",
        "# Add labels and title\n",
        "plt.xlabel('Sentiment')\n",
        "plt.ylabel('Count')\n",
        "plt.title('Sentiment Counts')\n",
        "\n",
        "# Show the plot\n",
        "plt.show()"
      ]
    },
    {
      "cell_type": "markdown",
      "metadata": {
        "id": "ZmkPxlvv2Rh9"
      },
      "source": [
        "## Data Preparation"
      ]
    },
    {
      "cell_type": "code",
      "execution_count": 8,
      "metadata": {
        "id": "fZ4x1J6x2pIp"
      },
      "outputs": [],
      "source": [
        "# Encode the label like 0 for positive and 1 for negative\n",
        "df['sentiment'] = df.sentiment.map({\"positive\":0, \"negative\":1})"
      ]
    },
    {
      "cell_type": "code",
      "execution_count": null,
      "metadata": {
        "id": "Q-pQ1eJ62HpX"
      },
      "outputs": [],
      "source": [
        "# Create PyTorch dataset from pandas dataframe\n",
        "dataset = Dataset.from_pandas(df)\n",
        "\n",
        "# Load DeBERTa tokenizer\n",
        "tokenizer = DebertaTokenizer.from_pretrained('microsoft/deberta-base')\n",
        "\n",
        "# Set maximum length for inputs\n",
        "max_length = 256\n",
        "\n",
        "# Tokenize the dataset\n",
        "def tokenize_function(examples):\n",
        "    return tokenizer(examples[\"review\"], padding=\"max_length\", truncation=True)\n",
        "\n",
        "tokenized_datasets = dataset.map(tokenize_function, batched=True)\n"
      ]
    },
    {
      "cell_type": "code",
      "execution_count": 10,
      "metadata": {
        "id": "TLuFn88f3UJX"
      },
      "outputs": [],
      "source": [
        "train_testvalid = tokenized_datasets.train_test_split(test_size=0.2)\n",
        "# Split the 10% test + valid in half test, half valid\n",
        "test_valid = train_testvalid['test'].train_test_split(test_size=0.5)\n",
        "# gather everyone if you want to have a single DatasetDict\n",
        "ds_prepared = DatasetDict({\n",
        "    'train': train_testvalid['train'],\n",
        "    'test': test_valid['test'],\n",
        "    'valid': test_valid['train']})"
      ]
    },
    {
      "cell_type": "code",
      "execution_count": 11,
      "metadata": {
        "id": "hAiNvBMx-2sH"
      },
      "outputs": [],
      "source": [
        "# Remove the \"review\" column\n",
        "ds_prepared = ds_prepared.remove_columns([\"review\"])\n",
        "\n",
        "# Rename the \"sentiment\" column to \"labels\"\n",
        "ds_prepared = ds_prepared.rename_column(\"sentiment\", \"labels\")\n",
        "\n",
        "# Set the format to PyTorch tensors\n",
        "ds_prepared.set_format(\"torch\")\n",
        "\n",
        "# Select a subset of the train and test datasets for checking purpose\n",
        "train_dataset = ds_prepared['train'] # TODO: get all values. .select(range(500))\n",
        "test_dataset = ds_prepared['test']  # TODO: get all values\n",
        "valid_dataset = ds_prepared['valid']\n",
        "\n",
        "# Create data loaders\n",
        "train_dataloader = DataLoader(train_dataset, shuffle=True, batch_size=4)\n",
        "test_dataloader = DataLoader(test_dataset, batch_size=4)\n",
        "valid_dataloader = DataLoader(valid_dataset, batch_size=4)\n"
      ]
    },
    {
      "cell_type": "markdown",
      "metadata": {
        "id": "fmhvZxlgELzl"
      },
      "source": [
        "## Model Training"
      ]
    },
    {
      "cell_type": "code",
      "execution_count": null,
      "metadata": {
        "id": "C-caJN_LDYZF"
      },
      "outputs": [],
      "source": [
        "# Define the DeBERTa model architecture\n",
        "model = DebertaForSequenceClassification.from_pretrained('microsoft/deberta-base', num_labels=2)\n",
        "\n",
        "# Define optimizer and learning rate\n",
        "optimizer = AdamW(model.parameters(), lr=5e-5)\n",
        "\n",
        "# Set number of epochs for training\n",
        "num_epochs = 15\n",
        "\n",
        "# Calculate the total number of training steps\n",
        "num_training_steps = num_epochs * len(train_dataloader) + num_epochs * len(valid_dataloader)\n",
        "\n",
        "# Set learning rate scheduler\n",
        "lr_scheduler = get_scheduler(\n",
        "    name=\"linear\", optimizer=optimizer, num_warmup_steps=0, num_training_steps=num_epochs * len(train_dataloader)\n",
        ")\n",
        "\n",
        "# Determine the device to use for training (GPU if available, else CPU)\n",
        "device = torch.device(\"cuda\") if torch.cuda.is_available() else torch.device(\"cpu\")\n",
        "\n",
        "# Move model to the chosen device\n",
        "model.to(device)"
      ]
    },
    {
      "cell_type": "code",
      "execution_count": null,
      "metadata": {
        "colab": {
          "base_uri": "https://localhost:8080/",
          "height": 49,
          "referenced_widgets": [
            "488bd918cb5e4fa9a852c041c35058fb",
            "953de4efaba048f091e5726b65664455",
            "c07c6dd7a3834e23931df61160132890",
            "8a08ea27bf9142a9892e92ef66c9f3b6",
            "16c1eb092fa341e0936933c601243e8d",
            "92010095cd1b4a2c8b9623cec6e75307",
            "dcced08f5fef416a8e7760e083c40211",
            "bd452848bd0a407f9770748810ebeac6",
            "678ad64e47a8452cb0e9da311e6240e0",
            "627ccb0789e741128c49678d8325fdfe",
            "0dada1f02dbd406c961f9770b385c567"
          ]
        },
        "id": "bdIFD0W_GIag",
        "outputId": "03a9bbeb-0143-421f-85e8-a13e0e3e2ccf"
      },
      "outputs": [
        {
          "output_type": "display_data",
          "data": {
            "text/plain": [
              "  0%|          | 0/168750 [00:00<?, ?it/s]"
            ],
            "application/vnd.jupyter.widget-view+json": {
              "version_major": 2,
              "version_minor": 0,
              "model_id": "488bd918cb5e4fa9a852c041c35058fb"
            }
          },
          "metadata": {}
        }
      ],
      "source": [
        "# Initialize the progress bar\n",
        "progress_bar = tqdm(range(num_training_steps))\n",
        "\n",
        "# Lists to store training and validation losses for plotting\n",
        "train_losses = []\n",
        "valid_losses = []\n",
        "\n",
        "best_loss = float('inf')\n",
        "patience_counter = 0\n",
        "early_stop_patience = 2  # Set the patience threshold\n",
        "\n",
        "# Loop through the specified number of epochs\n",
        "for epoch in range(num_epochs):\n",
        "    # Put the model in training mode\n",
        "    model.train()\n",
        "\n",
        "    # Lists to store validation loss per epoch\n",
        "    train_loss_per_epoch = []\n",
        "\n",
        "    # Loop through each batch in the training data loader\n",
        "    for batch in train_dataloader:\n",
        "        # Move the batch to the device\n",
        "        batch = {k: v.to(device) for k, v in batch.items()}\n",
        "\n",
        "        # Compute the outputs of the model\n",
        "        outputs = model(**batch)\n",
        "\n",
        "        # Compute the loss\n",
        "        loss = outputs.loss\n",
        "        loss.backward()\n",
        "\n",
        "        # Update the parameters of the optimizer\n",
        "        optimizer.step()\n",
        "\n",
        "        # Update the learning rate scheduler\n",
        "        lr_scheduler.step()\n",
        "\n",
        "        # Zero out the gradients\n",
        "        optimizer.zero_grad()\n",
        "\n",
        "        # Store training loss for plotting\n",
        "        train_loss_per_epoch.append(loss.item())\n",
        "\n",
        "        # Display training loss in the progress bar\n",
        "        progress_bar.set_postfix({'training_loss': '{:.3f}'.format(loss.item())})\n",
        "\n",
        "        # Update the progress bar\n",
        "        progress_bar.update(1)\n",
        "\n",
        "    # Calculate the average training loss for the epoch\n",
        "    avg_train_loss = np.mean(train_loss_per_epoch)\n",
        "    train_losses.append(avg_train_loss)\n",
        "\n",
        "    # Validation loop after each epoch\n",
        "    model.eval()  # Put the model in evaluation mode\n",
        "\n",
        "    # Lists to store validation loss per epoch\n",
        "    valid_loss_per_epoch = []\n",
        "\n",
        "    # Loop through the validation data loader\n",
        "    with torch.no_grad():\n",
        "        for batch in valid_dataloader:\n",
        "            # Move the batch to the device\n",
        "            batch = {k: v.to(device) for k, v in batch.items()}\n",
        "\n",
        "            # Compute the outputs of the model\n",
        "            outputs = model(**batch)\n",
        "\n",
        "            # Compute the loss\n",
        "            loss = outputs.loss\n",
        "\n",
        "            # Store validation loss for plotting\n",
        "            valid_loss_per_epoch.append(loss.item())\n",
        "\n",
        "            # Display training loss in the progress bar\n",
        "            progress_bar.set_postfix({'validation_loss': '{:.3f}'.format(loss.item())})\n",
        "\n",
        "            # Update the progress bar\n",
        "            progress_bar.update(1)\n",
        "\n",
        "    # Calculate the average validation loss for the epoch\n",
        "    avg_valid_loss = np.mean(valid_loss_per_epoch)\n",
        "    valid_losses.append(avg_valid_loss)\n",
        "\n",
        "    # save the model a the end of the epoch\n",
        "    model.save_pretrained(\"/content/model/\")\n",
        "\n",
        "    # Check for early stopping\n",
        "    if avg_valid_loss < best_loss:\n",
        "        best_loss = avg_valid_loss\n",
        "        patience_counter = 0\n",
        "    else:\n",
        "        patience_counter += 1\n",
        "\n",
        "    if patience_counter >= early_stop_patience:\n",
        "        print(f'Early stopping triggered at epoch {epoch + 1}.')\n",
        "        break"
      ]
    },
    {
      "cell_type": "code",
      "execution_count": null,
      "metadata": {
        "id": "fiT2BlxnPB7h"
      },
      "outputs": [],
      "source": [
        "# Plot final epoch-wise training and validation loss\n",
        "plt.plot(train_losses, label='Training Loss')\n",
        "plt.plot(valid_losses, label='Validation Loss')\n",
        "plt.xlabel('Epoch')\n",
        "plt.ylabel('Loss')\n",
        "plt.legend()\n",
        "plt.show()"
      ]
    },
    {
      "cell_type": "markdown",
      "metadata": {
        "id": "2KWIF2DCb1vm"
      },
      "source": [
        "## Evaluate Model on Test dataset"
      ]
    },
    {
      "cell_type": "code",
      "execution_count": null,
      "metadata": {
        "id": "VIefu2dnO9wL"
      },
      "outputs": [],
      "source": [
        "# Set the model to evaluation mode\n",
        "model.eval()\n",
        "\n",
        "# Create empty arrays to store true labels and predicted labels\n",
        "true_labels = []\n",
        "predicted_labels = []\n",
        "\n",
        "# Iterate over the test dataloader\n",
        "for batch in test_dataloader:\n",
        "    batch = {k: v.to(device) for k, v in batch.items()}\n",
        "    with torch.no_grad():\n",
        "        # Forward pass through the model\n",
        "        outputs = model(**batch)\n",
        "\n",
        "    # Get the predicted labels\n",
        "    logits = outputs.logits\n",
        "    predictions = torch.argmax(logits, dim=-1)\n",
        "\n",
        "    # Add the batch to the true and predicted labels arrays\n",
        "    true_labels.extend(batch[\"labels\"].cpu().numpy())\n",
        "    predicted_labels.extend(predictions.cpu().numpy())\n",
        "\n",
        "# labels\n",
        "class_names = [\"Positive\", \"Negative\"]\n",
        "# Compute precision, recall, F1 score, and support for each class\n",
        "class_report = classification_report(true_labels, predicted_labels, target_names=class_names)\n",
        "\n",
        "# Display the classification report\n",
        "print(class_report)"
      ]
    },
    {
      "cell_type": "markdown",
      "metadata": {
        "id": "lK-e_ddI83O4"
      },
      "source": [
        "## Saving the model"
      ]
    },
    {
      "cell_type": "code",
      "execution_count": null,
      "metadata": {
        "id": "TZz48V0P850M"
      },
      "outputs": [],
      "source": [
        "model.save_pretrained(\"/content/model/\")"
      ]
    },
    {
      "cell_type": "markdown",
      "metadata": {
        "id": "Nk-_lOS08SAy"
      },
      "source": [
        "## Test cases"
      ]
    },
    {
      "cell_type": "code",
      "execution_count": null,
      "metadata": {
        "id": "0y8S79ki8w5k"
      },
      "outputs": [],
      "source": [
        "# Load DeBERTa tokenizer\n",
        "tokenizer = DebertaTokenizer.from_pretrained('microsoft/deberta-base')\n",
        "\n",
        "# Set maximum length for inputs\n",
        "max_length = 256"
      ]
    },
    {
      "cell_type": "code",
      "execution_count": null,
      "metadata": {
        "id": "GsTSDK6k-rhe"
      },
      "outputs": [],
      "source": [
        "# Define the trained model\n",
        "model_testing = DebertaForSequenceClassification.from_pretrained('/content/model', num_labels=2)\n",
        "\n",
        "# Determine the device to use for training (GPU if available, else CPU)\n",
        "device = torch.device(\"cuda\") if torch.cuda.is_available() else torch.device(\"cpu\")\n",
        "\n",
        "# Move model to the chosen device\n",
        "model_testing.to(device)"
      ]
    },
    {
      "cell_type": "code",
      "execution_count": null,
      "metadata": {
        "id": "Afq6px9uz5EJ"
      },
      "outputs": [],
      "source": [
        "# sample review\n",
        "review = df['review'][0]\n",
        "\n",
        "review  = input(\"Please enter review: \")"
      ]
    },
    {
      "cell_type": "code",
      "execution_count": null,
      "metadata": {
        "id": "SCugjyKd3u4f"
      },
      "outputs": [],
      "source": [
        "# tokenize review and convert to PyTorch tensor\n",
        "input_review_tokens_tensor = tokenizer(review, padding=\"max_length\", truncation=True, return_tensors = 'pt')['input_ids'].to(device)\n",
        "# Put the model in evaluation mode\n",
        "model_testing.eval()\n",
        "\n",
        "# Pass the review through the model for inference\n",
        "with torch.no_grad():\n",
        "    outputs = model_testing(input_review_tokens_tensor)\n",
        "\n",
        "# Get the predicted class probabilities\n",
        "logits = outputs.logits\n",
        "predicted_probabilities = torch.softmax(logits, dim=1)\n",
        "\n",
        "# Get the predicted class (0 for negative, 1 for positive)\n",
        "_, predicted_class = torch.max(predicted_probabilities, dim=1)\n",
        "\n",
        "# The predicted_class will be a tensor with 0 or 1.\n",
        "predicted_sentiment = \"positive\" if predicted_class.item() == 0 else \"negative\"\n",
        "\n",
        "print(f\"Review: {Review} <----|----> Predicted sentiment: {predicted_sentiment}\")"
      ]
    },
    {
      "cell_type": "code",
      "execution_count": null,
      "metadata": {
        "id": "-E3nHYwdB3UI"
      },
      "outputs": [],
      "source": []
    }
  ],
  "metadata": {
    "accelerator": "GPU",
    "colab": {
      "provenance": []
    },
    "kernelspec": {
      "display_name": "Python 3",
      "name": "python3"
    },
    "language_info": {
      "name": "python"
    },
    "widgets": {
      "application/vnd.jupyter.widget-state+json": {
        "488bd918cb5e4fa9a852c041c35058fb": {
          "model_module": "@jupyter-widgets/controls",
          "model_name": "HBoxModel",
          "model_module_version": "1.5.0",
          "state": {
            "_dom_classes": [],
            "_model_module": "@jupyter-widgets/controls",
            "_model_module_version": "1.5.0",
            "_model_name": "HBoxModel",
            "_view_count": null,
            "_view_module": "@jupyter-widgets/controls",
            "_view_module_version": "1.5.0",
            "_view_name": "HBoxView",
            "box_style": "",
            "children": [
              "IPY_MODEL_953de4efaba048f091e5726b65664455",
              "IPY_MODEL_c07c6dd7a3834e23931df61160132890",
              "IPY_MODEL_8a08ea27bf9142a9892e92ef66c9f3b6"
            ],
            "layout": "IPY_MODEL_16c1eb092fa341e0936933c601243e8d"
          }
        },
        "953de4efaba048f091e5726b65664455": {
          "model_module": "@jupyter-widgets/controls",
          "model_name": "HTMLModel",
          "model_module_version": "1.5.0",
          "state": {
            "_dom_classes": [],
            "_model_module": "@jupyter-widgets/controls",
            "_model_module_version": "1.5.0",
            "_model_name": "HTMLModel",
            "_view_count": null,
            "_view_module": "@jupyter-widgets/controls",
            "_view_module_version": "1.5.0",
            "_view_name": "HTMLView",
            "description": "",
            "description_tooltip": null,
            "layout": "IPY_MODEL_92010095cd1b4a2c8b9623cec6e75307",
            "placeholder": "​",
            "style": "IPY_MODEL_dcced08f5fef416a8e7760e083c40211",
            "value": " 11%"
          }
        },
        "c07c6dd7a3834e23931df61160132890": {
          "model_module": "@jupyter-widgets/controls",
          "model_name": "FloatProgressModel",
          "model_module_version": "1.5.0",
          "state": {
            "_dom_classes": [],
            "_model_module": "@jupyter-widgets/controls",
            "_model_module_version": "1.5.0",
            "_model_name": "FloatProgressModel",
            "_view_count": null,
            "_view_module": "@jupyter-widgets/controls",
            "_view_module_version": "1.5.0",
            "_view_name": "ProgressView",
            "bar_style": "",
            "description": "",
            "description_tooltip": null,
            "layout": "IPY_MODEL_bd452848bd0a407f9770748810ebeac6",
            "max": 168750,
            "min": 0,
            "orientation": "horizontal",
            "style": "IPY_MODEL_678ad64e47a8452cb0e9da311e6240e0",
            "value": 18411
          }
        },
        "8a08ea27bf9142a9892e92ef66c9f3b6": {
          "model_module": "@jupyter-widgets/controls",
          "model_name": "HTMLModel",
          "model_module_version": "1.5.0",
          "state": {
            "_dom_classes": [],
            "_model_module": "@jupyter-widgets/controls",
            "_model_module_version": "1.5.0",
            "_model_name": "HTMLModel",
            "_view_count": null,
            "_view_module": "@jupyter-widgets/controls",
            "_view_module_version": "1.5.0",
            "_view_name": "HTMLView",
            "description": "",
            "description_tooltip": null,
            "layout": "IPY_MODEL_627ccb0789e741128c49678d8325fdfe",
            "placeholder": "​",
            "style": "IPY_MODEL_0dada1f02dbd406c961f9770b385c567",
            "value": " 18411/168750 [3:12:47&lt;27:24:43,  1.52it/s, training_loss=0.738]"
          }
        },
        "16c1eb092fa341e0936933c601243e8d": {
          "model_module": "@jupyter-widgets/base",
          "model_name": "LayoutModel",
          "model_module_version": "1.2.0",
          "state": {
            "_model_module": "@jupyter-widgets/base",
            "_model_module_version": "1.2.0",
            "_model_name": "LayoutModel",
            "_view_count": null,
            "_view_module": "@jupyter-widgets/base",
            "_view_module_version": "1.2.0",
            "_view_name": "LayoutView",
            "align_content": null,
            "align_items": null,
            "align_self": null,
            "border": null,
            "bottom": null,
            "display": null,
            "flex": null,
            "flex_flow": null,
            "grid_area": null,
            "grid_auto_columns": null,
            "grid_auto_flow": null,
            "grid_auto_rows": null,
            "grid_column": null,
            "grid_gap": null,
            "grid_row": null,
            "grid_template_areas": null,
            "grid_template_columns": null,
            "grid_template_rows": null,
            "height": null,
            "justify_content": null,
            "justify_items": null,
            "left": null,
            "margin": null,
            "max_height": null,
            "max_width": null,
            "min_height": null,
            "min_width": null,
            "object_fit": null,
            "object_position": null,
            "order": null,
            "overflow": null,
            "overflow_x": null,
            "overflow_y": null,
            "padding": null,
            "right": null,
            "top": null,
            "visibility": null,
            "width": null
          }
        },
        "92010095cd1b4a2c8b9623cec6e75307": {
          "model_module": "@jupyter-widgets/base",
          "model_name": "LayoutModel",
          "model_module_version": "1.2.0",
          "state": {
            "_model_module": "@jupyter-widgets/base",
            "_model_module_version": "1.2.0",
            "_model_name": "LayoutModel",
            "_view_count": null,
            "_view_module": "@jupyter-widgets/base",
            "_view_module_version": "1.2.0",
            "_view_name": "LayoutView",
            "align_content": null,
            "align_items": null,
            "align_self": null,
            "border": null,
            "bottom": null,
            "display": null,
            "flex": null,
            "flex_flow": null,
            "grid_area": null,
            "grid_auto_columns": null,
            "grid_auto_flow": null,
            "grid_auto_rows": null,
            "grid_column": null,
            "grid_gap": null,
            "grid_row": null,
            "grid_template_areas": null,
            "grid_template_columns": null,
            "grid_template_rows": null,
            "height": null,
            "justify_content": null,
            "justify_items": null,
            "left": null,
            "margin": null,
            "max_height": null,
            "max_width": null,
            "min_height": null,
            "min_width": null,
            "object_fit": null,
            "object_position": null,
            "order": null,
            "overflow": null,
            "overflow_x": null,
            "overflow_y": null,
            "padding": null,
            "right": null,
            "top": null,
            "visibility": null,
            "width": null
          }
        },
        "dcced08f5fef416a8e7760e083c40211": {
          "model_module": "@jupyter-widgets/controls",
          "model_name": "DescriptionStyleModel",
          "model_module_version": "1.5.0",
          "state": {
            "_model_module": "@jupyter-widgets/controls",
            "_model_module_version": "1.5.0",
            "_model_name": "DescriptionStyleModel",
            "_view_count": null,
            "_view_module": "@jupyter-widgets/base",
            "_view_module_version": "1.2.0",
            "_view_name": "StyleView",
            "description_width": ""
          }
        },
        "bd452848bd0a407f9770748810ebeac6": {
          "model_module": "@jupyter-widgets/base",
          "model_name": "LayoutModel",
          "model_module_version": "1.2.0",
          "state": {
            "_model_module": "@jupyter-widgets/base",
            "_model_module_version": "1.2.0",
            "_model_name": "LayoutModel",
            "_view_count": null,
            "_view_module": "@jupyter-widgets/base",
            "_view_module_version": "1.2.0",
            "_view_name": "LayoutView",
            "align_content": null,
            "align_items": null,
            "align_self": null,
            "border": null,
            "bottom": null,
            "display": null,
            "flex": null,
            "flex_flow": null,
            "grid_area": null,
            "grid_auto_columns": null,
            "grid_auto_flow": null,
            "grid_auto_rows": null,
            "grid_column": null,
            "grid_gap": null,
            "grid_row": null,
            "grid_template_areas": null,
            "grid_template_columns": null,
            "grid_template_rows": null,
            "height": null,
            "justify_content": null,
            "justify_items": null,
            "left": null,
            "margin": null,
            "max_height": null,
            "max_width": null,
            "min_height": null,
            "min_width": null,
            "object_fit": null,
            "object_position": null,
            "order": null,
            "overflow": null,
            "overflow_x": null,
            "overflow_y": null,
            "padding": null,
            "right": null,
            "top": null,
            "visibility": null,
            "width": null
          }
        },
        "678ad64e47a8452cb0e9da311e6240e0": {
          "model_module": "@jupyter-widgets/controls",
          "model_name": "ProgressStyleModel",
          "model_module_version": "1.5.0",
          "state": {
            "_model_module": "@jupyter-widgets/controls",
            "_model_module_version": "1.5.0",
            "_model_name": "ProgressStyleModel",
            "_view_count": null,
            "_view_module": "@jupyter-widgets/base",
            "_view_module_version": "1.2.0",
            "_view_name": "StyleView",
            "bar_color": null,
            "description_width": ""
          }
        },
        "627ccb0789e741128c49678d8325fdfe": {
          "model_module": "@jupyter-widgets/base",
          "model_name": "LayoutModel",
          "model_module_version": "1.2.0",
          "state": {
            "_model_module": "@jupyter-widgets/base",
            "_model_module_version": "1.2.0",
            "_model_name": "LayoutModel",
            "_view_count": null,
            "_view_module": "@jupyter-widgets/base",
            "_view_module_version": "1.2.0",
            "_view_name": "LayoutView",
            "align_content": null,
            "align_items": null,
            "align_self": null,
            "border": null,
            "bottom": null,
            "display": null,
            "flex": null,
            "flex_flow": null,
            "grid_area": null,
            "grid_auto_columns": null,
            "grid_auto_flow": null,
            "grid_auto_rows": null,
            "grid_column": null,
            "grid_gap": null,
            "grid_row": null,
            "grid_template_areas": null,
            "grid_template_columns": null,
            "grid_template_rows": null,
            "height": null,
            "justify_content": null,
            "justify_items": null,
            "left": null,
            "margin": null,
            "max_height": null,
            "max_width": null,
            "min_height": null,
            "min_width": null,
            "object_fit": null,
            "object_position": null,
            "order": null,
            "overflow": null,
            "overflow_x": null,
            "overflow_y": null,
            "padding": null,
            "right": null,
            "top": null,
            "visibility": null,
            "width": null
          }
        },
        "0dada1f02dbd406c961f9770b385c567": {
          "model_module": "@jupyter-widgets/controls",
          "model_name": "DescriptionStyleModel",
          "model_module_version": "1.5.0",
          "state": {
            "_model_module": "@jupyter-widgets/controls",
            "_model_module_version": "1.5.0",
            "_model_name": "DescriptionStyleModel",
            "_view_count": null,
            "_view_module": "@jupyter-widgets/base",
            "_view_module_version": "1.2.0",
            "_view_name": "StyleView",
            "description_width": ""
          }
        }
      }
    }
  },
  "nbformat": 4,
  "nbformat_minor": 0
}